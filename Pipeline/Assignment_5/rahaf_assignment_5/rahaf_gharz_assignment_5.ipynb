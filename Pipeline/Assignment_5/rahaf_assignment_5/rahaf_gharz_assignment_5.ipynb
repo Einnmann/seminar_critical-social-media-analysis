{
 "cells": [
  {
   "cell_type": "markdown",
   "metadata": {},
   "source": [
    "# Introduction\n",
    "In this notebook we will use a clustering algorithm to analyze our data (i.e. YouTube comments of a single video). This will help us extract topics of discussion. We use the embeddings generated in Assignment 4 as input. (This notebook will not run without first running the assignment 4 Notebook, as it relies on the data in the folder 'output/') Each of our comments has been assigned a vector that encodes information about its meaning. The closer two vectors are, the more similar the meaning.\n",
    "\n",
    "Each vector is of 512 Dimensions.\n",
    "\n",
    "Before we can cluster our data we need to reduce the embeddings' dimensionality to overcome the curse of dimensionality. We use the UMAP ALgorithm for this.\n",
    "\n",
    "After that we use the KMedoids Algorithm to partition the embedding space and generate our clusters this way.\n",
    "\n",
    "We need to define the number of clusters we want to have. To find the optimal number of clusters, we use a simple optimization scheme.\n",
    "\n",
    "Once the clusters are created, we visualize them. To do this we reduce the dimensionality of the embeddings again to two dimensions. Then we render a scatterplot of our data.\n",
    "Furthermore we want to analyze and interpret our clusters. To do this, we:\n",
    "\n",
    "print some statistics about each of the clusters\n",
    "print cluster's medoid (the central sample)\n",
    "print the cluster(s) we want to analyze further\n",
    "Check to see if jupyter lab uses the correct python interpreter with '!which python'. It should be something like '/opt/anaconda3/envs/[environment name]/bin/python' (on Mac). If not, try this: https://github.com/jupyter/notebook/issues/3146#issuecomment-352718675"
   ]
  },
  {
   "cell_type": "code",
   "execution_count": 53,
   "metadata": {},
   "outputs": [
    {
     "name": "stderr",
     "output_type": "stream",
     "text": [
      "Python 3.6.12 :: Anaconda, Inc.\n"
     ]
    }
   ],
   "source": [
    "!python --version"
   ]
  },
  {
   "cell_type": "markdown",
   "metadata": {},
   "source": [
    "# Install dependencies:"
   ]
  },
  {
   "cell_type": "code",
   "execution_count": 54,
   "metadata": {},
   "outputs": [
    {
     "name": "stdout",
     "output_type": "stream",
     "text": [
      "Collecting package metadata (current_repodata.json): ...working... done\n",
      "Solving environment: ...working... done\n",
      "\n",
      "# All requested packages already installed.\n",
      "\n",
      "Collecting package metadata (current_repodata.json): ...working... done\n",
      "Solving environment: ...working... done\n",
      "\n",
      "# All requested packages already installed.\n",
      "\n"
     ]
    }
   ],
   "source": [
    "install_packages = True\n",
    "if install_packages:    \n",
    "    !conda install -c conda-forge umap-learn -y\n",
    "    !conda install -c conda-forge scikit-learn-extra -y"
   ]
  },
  {
   "cell_type": "markdown",
   "metadata": {},
   "source": [
    "# Imports\n"
   ]
  },
  {
   "cell_type": "code",
   "execution_count": 55,
   "metadata": {},
   "outputs": [],
   "source": [
    "#imports\n",
    "\n",
    "import pandas as pd\n",
    "import numpy as np\n",
    "import os\n",
    "import time\n",
    "import matplotlib.pyplot as plt\n",
    "import umap\n",
    "from sklearn_extra.cluster import KMedoids\n",
    "import seaborn as sns\n",
    "#from sklearn.cluster import AgglomerativeClustering, DBSCAN, KMeans, OPTICS\n",
    "from sklearn.metrics import silhouette_samples, silhouette_score, pairwise_distances"
   ]
  },
  {
   "cell_type": "markdown",
   "metadata": {},
   "source": [
    "# Functions to Save and load manually"
   ]
  },
  {
   "cell_type": "code",
   "execution_count": 56,
   "metadata": {},
   "outputs": [],
   "source": [
    "# Save and load your data after clustering\n",
    "\n",
    "def save_results():\n",
    "    data.to_pickle(output_path+'data_clustered'+'.pkl')"
   ]
  },
  {
   "cell_type": "markdown",
   "metadata": {},
   "source": [
    "# Set pandas print options\n",
    "This will improve readability of printed pandas dataframe."
   ]
  },
  {
   "cell_type": "code",
   "execution_count": 57,
   "metadata": {},
   "outputs": [],
   "source": [
    "pd.set_option('display.max_rows', None)\n",
    "pd.set_option('display.max_columns', None)\n",
    "pd.set_option('display.width', None)\n",
    "pd.set_option('display.max_colwidth', None)"
   ]
  },
  {
   "cell_type": "markdown",
   "metadata": {},
   "source": [
    "# Set global Parameters\n",
    "Set your parameters here:\n",
    "\n",
    "output_path: Files generated in this notebook will be saved here.\n",
    "\n",
    "model_type: Define which model was used to produce the embeddings. (Check the name of the .npy-file containing the embeddings)"
   ]
  },
  {
   "cell_type": "code",
   "execution_count": 58,
   "metadata": {},
   "outputs": [],
   "source": [
    "output_path = \"./output/\"\n",
    "model_type = 'Transformer' #@param ['DAN','Transformer','Transformer_Multilingual']"
   ]
  },
  {
   "cell_type": "markdown",
   "metadata": {},
   "source": [
    "# Load Data\n",
    "Load the preprocessed data as a pandas dataframe. And load the embeddings as a numpy ndarray (a matrix in our case)."
   ]
  },
  {
   "cell_type": "code",
   "execution_count": 59,
   "metadata": {},
   "outputs": [],
   "source": [
    "data = pd.read_pickle(output_path+'data_preprocessed'+'.pkl')\n",
    "labels_default = np.zeros(len(data.index))-1\n",
    "data['label_manual'] = labels_default"
   ]
  },
  {
   "cell_type": "code",
   "execution_count": 60,
   "metadata": {},
   "outputs": [],
   "source": [
    "embeddings = np.load(output_path+'/embeddings'+model_type+'.npy', mmap_mode=None, allow_pickle=False, fix_imports=True, encoding='ASCII')"
   ]
  },
  {
   "cell_type": "markdown",
   "metadata": {},
   "source": [
    "# Dimensionality reduction with UMAP\n",
    "We reduce the number of dimensions of our embeddings to make possibly present clusters more pronounced. The number of dimensions (num_dimensions) depends on the number of samples"
   ]
  },
  {
   "cell_type": "code",
   "execution_count": 61,
   "metadata": {},
   "outputs": [],
   "source": [
    "# Set the number of dimensions to reduce to\n",
    "num_dimensions =100\n",
    "\n",
    "reducer_clustering = umap.UMAP(n_neighbors=50, \n",
    "                     n_components=num_dimensions, \n",
    "                     metric='cosine', \n",
    "                     #n_epochs=200, \n",
    "                     learning_rate=.5,\n",
    "                     init='spectral', \n",
    "                     min_dist=0,\n",
    "                     #spread=5.0, \n",
    "                     #set_op_mix_ratio=1.0, \n",
    "                     #local_connectivity=1.0, \n",
    "                     #negative_sample_rate=5, \n",
    "                     #transform_queue_size=4.0, \n",
    "                     force_approximation_algorithm=True, \n",
    "                     unique=True)\n",
    "embeddings_umap = reducer_clustering.fit_transform(embeddings)"
   ]
  },
  {
   "cell_type": "markdown",
   "metadata": {},
   "source": [
    "# Optimize the Number of Clusters"
   ]
  },
  {
   "cell_type": "code",
   "execution_count": 62,
   "metadata": {},
   "outputs": [
    {
     "name": "stdout",
     "output_type": "stream",
     "text": [
      "n_clusters: 2 silhouette_avg: 0.46483064\n",
      "n_clusters: 102 silhouette_avg: 0.35518026\n",
      "n_clusters: 202 silhouette_avg: 0.33745244\n",
      "n_clusters: 302 silhouette_avg: 0.3145167\n",
      "n_clusters: 402 silhouette_avg: 0.29311615\n",
      "n_clusters: 502 silhouette_avg: 0.26001477\n",
      "n_clusters: 602 silhouette_avg: 0.22029242\n",
      "n_clusters: 702 silhouette_avg: 0.18041751\n",
      "n_clusters: 802 silhouette_avg: 0.14012091\n",
      "n_clusters: 902 silhouette_avg: 0.0828288\n"
     ]
    },
    {
     "data": {
      "image/png": "[encoded data removed]",
      "text/plain": [
       "<Figure size 432x288 with 1 Axes>"
      ]
     },
     "metadata": {
      "needs_background": "light"
     },
     "output_type": "display_data"
    }
   ],
   "source": [
    "#optimize number of clusters\n",
    "optimize_number_of_clusters = True#@param {type:'boolean'}\n",
    "\n",
    "min_clusters=2 \n",
    "max_clusters=1000 \n",
    "step=100 \n",
    "\n",
    "if optimize_number_of_clusters:\n",
    "    rows_list = []\n",
    "    inertias = []\n",
    "    n_clusters = []\n",
    "    silouette_scores = []\n",
    "    init_param = 'k-medoids++' #@param ['random', 'heuristic', 'k-medoids++']\n",
    "    random_state_param=1234 #@param {type:'number'}\n",
    "    for i in range(min_clusters,max_clusters, step):\n",
    "        temp_clustering = KMedoids(n_clusters=i, metric='euclidean', init=init_param, max_iter=200, random_state=random_state_param).fit(embeddings_umap)\n",
    "        silhouette_avg = silhouette_score(embeddings_umap, temp_clustering.labels_)\n",
    "        print(\"n_clusters:\",i, \"silhouette_avg:\",silhouette_avg)\n",
    "        silhouette_dict = {'number of clusters': i, 'silhouette average': silhouette_avg}\n",
    "        rows_list.append(silhouette_dict)\n",
    "    results = pd.DataFrame(rows_list)\n",
    "    sns.lineplot(x = 'number of clusters', y = 'silhouette average',data = results)"
   ]
  },
  {
   "cell_type": "markdown",
   "metadata": {},
   "source": [
    "# Clustering with KMedoids"
   ]
  },
  {
   "cell_type": "code",
   "execution_count": 63,
   "metadata": {},
   "outputs": [
    {
     "name": "stdout",
     "output_type": "stream",
     "text": [
      "cluster members 75     1\n",
      "24     1\n",
      "66     1\n",
      "80     1\n",
      "98     1\n",
      "99     2\n",
      "83     2\n",
      "86     2\n",
      "9      2\n",
      "89     2\n",
      "43     3\n",
      "74     3\n",
      "26     4\n",
      "84     4\n",
      "73     4\n",
      "51     4\n",
      "90     4\n",
      "55     4\n",
      "78     4\n",
      "5      4\n",
      "52     5\n",
      "95     5\n",
      "46     5\n",
      "94     5\n",
      "37     5\n",
      "68     6\n",
      "31     6\n",
      "50     6\n",
      "65     6\n",
      "54     6\n",
      "61     6\n",
      "38     6\n",
      "91     6\n",
      "16     6\n",
      "59     6\n",
      "36     7\n",
      "76     7\n",
      "21     7\n",
      "48     7\n",
      "18     7\n",
      "58     7\n",
      "27     7\n",
      "53     7\n",
      "71     7\n",
      "82     7\n",
      "3      8\n",
      "63     8\n",
      "1      8\n",
      "17     8\n",
      "64     8\n",
      "88     8\n",
      "22     8\n",
      "20     8\n",
      "81     8\n",
      "87     8\n",
      "7      8\n",
      "56     9\n",
      "70     9\n",
      "14     9\n",
      "6      9\n",
      "92     9\n",
      "42    10\n",
      "45    11\n",
      "44    11\n",
      "33    11\n",
      "30    11\n",
      "39    12\n",
      "10    12\n",
      "41    12\n",
      "97    12\n",
      "67    12\n",
      "19    13\n",
      "79    13\n",
      "85    13\n",
      "35    14\n",
      "93    14\n",
      "49    14\n",
      "47    15\n",
      "12    15\n",
      "29    15\n",
      "77    16\n",
      "2     16\n",
      "0     17\n",
      "62    17\n",
      "60    17\n",
      "40    17\n",
      "32    17\n",
      "69    18\n",
      "15    18\n",
      "57    19\n",
      "25    19\n",
      "23    23\n",
      "72    23\n",
      "28    23\n",
      "96    24\n",
      "13    25\n",
      "34    25\n",
      "11    26\n",
      "4     29\n",
      "8     30\n",
      "Name: label_kmedoids, dtype: int64\n"
     ]
    }
   ],
   "source": [
    "number_of_clusters =  100\n",
    "init_param = 'k-medoids++' #@param ['random', 'heuristic', 'k-medoids++']\n",
    "clustering_model = KMedoids(n_clusters=number_of_clusters,\n",
    "                            metric='cosine', \n",
    "                            init=init_param, \n",
    "                            max_iter=150, \n",
    "                            random_state=None).fit(embeddings_umap)\n",
    "clustering_model\n",
    "labels = clustering_model.labels_\n",
    "data[\"label_kmedoids\"] = labels\n",
    "print(\"cluster\",\"members\", data[\"label_kmedoids\"].value_counts().sort_values())\n",
    "\n",
    "clustering_model.inertia_\n",
    "\n",
    "medoids_indices = clustering_model.medoid_indices_"
   ]
  },
  {
   "cell_type": "code",
   "execution_count": 64,
   "metadata": {},
   "outputs": [],
   "source": [
    "#calculate distances\n",
    "distances = np.diag(pairwise_distances(X = clustering_model.cluster_centers_[labels], Y = embeddings_umap[:], metric='cosine'))\n",
    "data[\"distance_kmedoids\"] = distances"
   ]
  },
  {
   "cell_type": "markdown",
   "metadata": {},
   "source": [
    "# Dimensionality Reduction for Visualization"
   ]
  },
  {
   "cell_type": "code",
   "execution_count": null,
   "metadata": {},
   "outputs": [],
   "source": [
    "num_dimensions =2\n",
    "\n",
    "reducer_visualization = umap.UMAP(n_neighbors=50, \n",
    "                                  n_components=num_dimensions, \n",
    "                                  metric='cosine', \n",
    "                                  output_metric='euclidean', \n",
    "                                  #n_epochs=200, \n",
    "                                  learning_rate=.5,\n",
    "                                  init='spectral', \n",
    "                                  min_dist=.1,\n",
    "                                  spread=5.0, \n",
    "                                  set_op_mix_ratio=1.0, \n",
    "                                  local_connectivity=1.0, \n",
    "                                  negative_sample_rate=5, \n",
    "                                  transform_queue_size=4.0, \n",
    "                                  force_approximation_algorithm=True, \n",
    "                                  unique=True)\n",
    "embeddings_umap_2d = reducer_clustering.fit_transform(embeddings)"
   ]
  },
  {
   "cell_type": "markdown",
   "metadata": {},
   "source": [
    "# Visualize clustering results"
   ]
  },
  {
   "cell_type": "code",
   "execution_count": null,
   "metadata": {},
   "outputs": [],
   "source": [
    "#@markdown Set the color palette used for visualizing different clusters\n",
    "palette_param = \"Paired\" #@param ['Accent','cubehelix', \"tab10\", 'Paired', \"Spectral\"]\n",
    "#@markdown Set opacity of data points (1 = opaque, 0 = invisible)\n",
    "alpha_param = 0.16 #@param {type:\"slider\", min:0, max:1, step:0.01}\n",
    "\n",
    "\n",
    "sns.relplot(x = embeddings_umap_2d[:, 0], y = embeddings_umap_2d[:, 1],  hue = data['label_kmedoids'], palette = palette_param,alpha = alpha_param,height = 10)"
   ]
  },
  {
   "cell_type": "markdown",
   "metadata": {},
   "source": [
    "# Highlight one cluster"
   ]
  },
  {
   "cell_type": "code",
   "execution_count": null,
   "metadata": {},
   "outputs": [],
   "source": [
    "## Choose a cluster to higlight:\n",
    "cluster_num = 60\n",
    "\n",
    "data['highlight'] = np.zeros(len(data.index))\n",
    "data.loc[data['label_kmedoids'] == cluster_num, 'highlight'] = 1\n",
    "\n",
    "sns.relplot(x = embeddings_umap_2d[:, 0], y = embeddings_umap_2d[:, 1],  hue = data['highlight'], palette = \"Accent\",alpha = 0.8,height = 10)"
   ]
  },
  {
   "cell_type": "markdown",
   "metadata": {},
   "source": [
    "# Print Medoids and cluster statistics"
   ]
  },
  {
   "cell_type": "code",
   "execution_count": null,
   "metadata": {},
   "outputs": [],
   "source": [
    "# print the medoids \n",
    "data.iloc[medoids_indices]"
   ]
  },
  {
   "cell_type": "code",
   "execution_count": null,
   "metadata": {},
   "outputs": [],
   "source": [
    "# print statistics for each cluster\n",
    "data['label_kmedoids'].value_counts().sort_values()\n",
    "for k,g in data.groupby(by = 'label_kmedoids'):\n",
    "      print(g.iloc[0]['label_kmedoids'],\"number of samples: \",len(g.index),\"mean distance from center: \", 100*np.mean(g['distance_kmedoids']), \"Proportion of replies:\", 100*np.sum(g['isReply'])/len(g.index))"
   ]
  },
  {
   "cell_type": "markdown",
   "metadata": {},
   "source": [
    "# Print Cluster\n",
    "Print the comments within a cluster. Comments are sorted by their distance from the cluster medoid"
   ]
  },
  {
   "cell_type": "code",
   "execution_count": null,
   "metadata": {},
   "outputs": [],
   "source": [
    "# Choose a cluster to print\n",
    "cluster_number =   60\n",
    "# Choose the number of samples to print\n",
    "number_of_samples_to_print = 10000\n",
    "\n",
    "data['label_kmedoids'] = data['label_kmedoids'].astype('category')\n",
    "cluster = data[data['label_kmedoids']==cluster_number]\n",
    "if cluster[\"text\"].count()<=number_of_samples_to_print:\n",
    "    number_of_samples_to_print = cluster[\"text\"].count()\n",
    "\n",
    "cluster = cluster.sort_values(by='distance_kmedoids')\n",
    "\n",
    "print(\"Number of samples in the cluster:\", cluster[\"text\"].count())\n",
    "print(\"Average Distance from cluster center:\", np.mean(cluster['distance_kmedoids']))\n",
    "cluster"
   ]
  },
  {
   "cell_type": "markdown",
   "metadata": {},
   "source": [
    "# Assign Cluster labels manually\n",
    "cluster_number: which cluster would you like to assign labels to? min_distance: the minimum distance from the cluster medoid be for a data point to still get the specified label max_distance: the maximum distance from the cluster medoid be for a data point to still get the specified label label_manual: your label"
   ]
  },
  {
   "cell_type": "code",
   "execution_count": null,
   "metadata": {},
   "outputs": [],
   "source": [
    "#which cluster would you like to assign labels to?\n",
    "cluster_number = 60\n",
    "#your label\n",
    "label_manual = ' climate_change_prevention'\n",
    "#the minimum distance from the cluster medoid be for a data point to still get the specified label\n",
    "min_distance = 0\n",
    "#the maximum distance from the cluster medoid be for a data point to still get the specified label\n",
    "max_distance = 1000\n",
    "\n",
    "# 2. Filter data by cluster label and specified label to filtered data\n",
    "data.loc[(data['label_kmedoids']==cluster_number) & (data['distance_kmedoids'] <= max_distance) & (data['distance_kmedoids'] >= min_distance),  'label_manual'] = label_manual"
   ]
  },
  {
   "cell_type": "code",
   "execution_count": null,
   "metadata": {},
   "outputs": [],
   "source": [
    "data[data['label_kmedoids']==cluster_number].sort_values(by='distance_kmedoids')"
   ]
  },
  {
   "cell_type": "markdown",
   "metadata": {},
   "source": [
    "# Print Cluster 2"
   ]
  },
  {
   "cell_type": "code",
   "execution_count": null,
   "metadata": {},
   "outputs": [],
   "source": [
    "# Choose a cluster to print\n",
    "cluster_number =  64\n",
    "# Choose the number of samples to print\n",
    "number_of_samples_to_print = 10000\n",
    "\n",
    "data['label_kmedoids'] = data['label_kmedoids'].astype('category')\n",
    "cluster = data[data['label_kmedoids']==cluster_number]\n",
    "if cluster[\"text\"].count()<=number_of_samples_to_print:\n",
    "    number_of_samples_to_print = cluster[\"text\"].count()\n",
    "\n",
    "cluster = cluster.sort_values(by='distance_kmedoids')\n",
    "\n",
    "print(\"Number of samples in the cluster:\", cluster[\"text\"].count())\n",
    "print(\"Average Distance from cluster center:\", np.mean(cluster['distance_kmedoids']))\n",
    "cluster"
   ]
  },
  {
   "cell_type": "code",
   "execution_count": null,
   "metadata": {},
   "outputs": [],
   "source": [
    "#which cluster would you like to assign labels to?\n",
    "cluster_number = 64\n",
    "#your label\n",
    "label_manual = 'global_warming'\n",
    "#the minimum distance from the cluster medoid be for a data point to still get the specified label\n",
    "min_distance = 0\n",
    "#the maximum distance from the cluster medoid be for a data point to still get the specified label\n",
    "max_distance = 1000\n",
    "\n",
    "# 2. Filter data by cluster label and specified label to filtered data\n",
    "data.loc[(data['label_kmedoids']==cluster_number) & (data['distance_kmedoids'] <= max_distance) & (data['distance_kmedoids'] >= min_distance),  'label_manual'] = label_manual"
   ]
  },
  {
   "cell_type": "code",
   "execution_count": null,
   "metadata": {},
   "outputs": [],
   "source": [
    "data[data['label_kmedoids']==cluster_number].sort_values(by='distance_kmedoids')"
   ]
  }
 ],
 "metadata": {
  "kernelspec": {
   "display_name": "Python 3",
   "language": "python",
   "name": "python3"
  },
  "language_info": {
   "codemirror_mode": {
    "name": "ipython",
    "version": 3
   },
   "file_extension": ".py",
   "mimetype": "text/x-python",
   "name": "python",
   "nbconvert_exporter": "python",
   "pygments_lexer": "ipython3",
   "version": "3.6.12"
  }
 },
 "nbformat": 4,
 "nbformat_minor": 4
}
